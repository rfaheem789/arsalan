{
 "cells": [
  {
   "cell_type": "code",
   "execution_count": 2,
   "metadata": {},
   "outputs": [],
   "source": [
    "import pandas as pd\n",
    "import numpy as np\n",
    "from sklearn import preprocessing\n",
    "from sklearn.impute import SimpleImputer\n",
    "from sklearn.preprocessing import LabelEncoder\n"
   ]
  },
  {
   "cell_type": "code",
   "execution_count": 38,
   "metadata": {},
   "outputs": [
    {
     "data": {
      "text/plain": [
       "array([[1, 1, 1, 1, 1, 1, 1, 1, 1, 'SteelcutOats', 'mixvegitables',\n",
       "        'Smokedsalmon', 'AlooGobi', 'PepperChickenFry'],\n",
       "       [1, 1, 1, 1, 1, 1, 1, 1, 0, 'Smokedsalmon', 'TawaChickenfry',\n",
       "        'ChickencornSoup', 'SteelcutOats', 'ArabicSeekhKabab'],\n",
       "       [1, 1, 1, 1, 1, 1, 1, 0, 1, 'PepperChickenFry', 'PalakChicken',\n",
       "        'SteelcutOats', 'ChickenKeemaParatha', 'mixvegitables'],\n",
       "       [1, 1, 1, 1, 1, 1, 1, 0, 0, 'PakistaniShamiKababs',\n",
       "        'ChickenKeemaParatha', 'mixvegitables', 'AlooGobi ',\n",
       "        'SafedMurghKurma'],\n",
       "       [1, 1, 1, 1, 1, 1, 0, 1, 1, 'mixvegitables', 'ChickenNuggets',\n",
       "        'AlooGobi ', 'SteelcutOats', 'ChickenKarahi']], dtype=object)"
      ]
     },
     "execution_count": 38,
     "metadata": {},
     "output_type": "execute_result"
    }
   ],
   "source": [
    "df = pd.read_csv(\"IMSMenu2.csv\" )\n",
    "imputer = SimpleImputer(missing_values=np.nan, strategy='most_frequent')\n",
    "\n",
    "\n",
    "\n",
    "labelencoder = LabelEncoder()\n",
    "\n",
    "imputer.fit(df[:])\n",
    "X = imputer.transform(df[:])\n",
    "\n",
    "data = df.iloc[:,:].values\n",
    "\n",
    "# Conversion of all categorial column values to vector/numerical\n",
    "for i in range(0,9):\n",
    "        data[:,i] = labelencoder.fit_transform(data[:,i])\n",
    "data[:5]"
   ]
  },
  {
   "cell_type": "code",
   "execution_count": 39,
   "metadata": {},
   "outputs": [
    {
     "data": {
      "text/html": [
       "<div>\n",
       "<style scoped>\n",
       "    .dataframe tbody tr th:only-of-type {\n",
       "        vertical-align: middle;\n",
       "    }\n",
       "\n",
       "    .dataframe tbody tr th {\n",
       "        vertical-align: top;\n",
       "    }\n",
       "\n",
       "    .dataframe thead th {\n",
       "        text-align: right;\n",
       "    }\n",
       "</style>\n",
       "<table border=\"1\" class=\"dataframe\">\n",
       "  <thead>\n",
       "    <tr style=\"text-align: right;\">\n",
       "      <th></th>\n",
       "      <th>DiabetesTypeOne</th>\n",
       "      <th>DiabetesTypeTwo</th>\n",
       "      <th>liverDisease</th>\n",
       "      <th>heartDisease</th>\n",
       "      <th>kidneyDisease</th>\n",
       "      <th>Flu</th>\n",
       "      <th>Fever</th>\n",
       "      <th>LowBP</th>\n",
       "      <th>HighBP</th>\n",
       "      <th>Recommended</th>\n",
       "      <th>Recommended2</th>\n",
       "      <th>Recommended3</th>\n",
       "      <th>Recommended4</th>\n",
       "      <th>Recommended5</th>\n",
       "    </tr>\n",
       "  </thead>\n",
       "  <tbody>\n",
       "    <tr>\n",
       "      <th>0</th>\n",
       "      <td>1</td>\n",
       "      <td>1</td>\n",
       "      <td>1</td>\n",
       "      <td>1</td>\n",
       "      <td>1</td>\n",
       "      <td>1</td>\n",
       "      <td>1</td>\n",
       "      <td>1</td>\n",
       "      <td>1</td>\n",
       "      <td>SteelcutOats</td>\n",
       "      <td>mixvegitables</td>\n",
       "      <td>Smokedsalmon</td>\n",
       "      <td>AlooGobi</td>\n",
       "      <td>PepperChickenFry</td>\n",
       "    </tr>\n",
       "    <tr>\n",
       "      <th>1</th>\n",
       "      <td>1</td>\n",
       "      <td>1</td>\n",
       "      <td>1</td>\n",
       "      <td>1</td>\n",
       "      <td>1</td>\n",
       "      <td>1</td>\n",
       "      <td>1</td>\n",
       "      <td>1</td>\n",
       "      <td>0</td>\n",
       "      <td>Smokedsalmon</td>\n",
       "      <td>TawaChickenfry</td>\n",
       "      <td>ChickencornSoup</td>\n",
       "      <td>SteelcutOats</td>\n",
       "      <td>ArabicSeekhKabab</td>\n",
       "    </tr>\n",
       "    <tr>\n",
       "      <th>2</th>\n",
       "      <td>1</td>\n",
       "      <td>1</td>\n",
       "      <td>1</td>\n",
       "      <td>1</td>\n",
       "      <td>1</td>\n",
       "      <td>1</td>\n",
       "      <td>1</td>\n",
       "      <td>0</td>\n",
       "      <td>1</td>\n",
       "      <td>PepperChickenFry</td>\n",
       "      <td>PalakChicken</td>\n",
       "      <td>SteelcutOats</td>\n",
       "      <td>ChickenKeemaParatha</td>\n",
       "      <td>mixvegitables</td>\n",
       "    </tr>\n",
       "    <tr>\n",
       "      <th>3</th>\n",
       "      <td>1</td>\n",
       "      <td>1</td>\n",
       "      <td>1</td>\n",
       "      <td>1</td>\n",
       "      <td>1</td>\n",
       "      <td>1</td>\n",
       "      <td>1</td>\n",
       "      <td>0</td>\n",
       "      <td>0</td>\n",
       "      <td>PakistaniShamiKababs</td>\n",
       "      <td>ChickenKeemaParatha</td>\n",
       "      <td>mixvegitables</td>\n",
       "      <td>AlooGobi</td>\n",
       "      <td>SafedMurghKurma</td>\n",
       "    </tr>\n",
       "    <tr>\n",
       "      <th>4</th>\n",
       "      <td>1</td>\n",
       "      <td>1</td>\n",
       "      <td>1</td>\n",
       "      <td>1</td>\n",
       "      <td>1</td>\n",
       "      <td>1</td>\n",
       "      <td>0</td>\n",
       "      <td>1</td>\n",
       "      <td>1</td>\n",
       "      <td>mixvegitables</td>\n",
       "      <td>ChickenNuggets</td>\n",
       "      <td>AlooGobi</td>\n",
       "      <td>SteelcutOats</td>\n",
       "      <td>ChickenKarahi</td>\n",
       "    </tr>\n",
       "  </tbody>\n",
       "</table>\n",
       "</div>"
      ],
      "text/plain": [
       "  DiabetesTypeOne DiabetesTypeTwo liverDisease heartDisease kidneyDisease Flu  \\\n",
       "0               1               1            1            1             1   1   \n",
       "1               1               1            1            1             1   1   \n",
       "2               1               1            1            1             1   1   \n",
       "3               1               1            1            1             1   1   \n",
       "4               1               1            1            1             1   1   \n",
       "\n",
       "  Fever LowBP HighBP           Recommended         Recommended2  \\\n",
       "0     1     1      1          SteelcutOats        mixvegitables   \n",
       "1     1     1      0          Smokedsalmon       TawaChickenfry   \n",
       "2     1     0      1      PepperChickenFry         PalakChicken   \n",
       "3     1     0      0  PakistaniShamiKababs  ChickenKeemaParatha   \n",
       "4     0     1      1         mixvegitables       ChickenNuggets   \n",
       "\n",
       "      Recommended3         Recommended4      Recommended5  \n",
       "0     Smokedsalmon             AlooGobi  PepperChickenFry  \n",
       "1  ChickencornSoup         SteelcutOats  ArabicSeekhKabab  \n",
       "2     SteelcutOats  ChickenKeemaParatha     mixvegitables  \n",
       "3    mixvegitables            AlooGobi    SafedMurghKurma  \n",
       "4        AlooGobi          SteelcutOats     ChickenKarahi  "
      ]
     },
     "execution_count": 39,
     "metadata": {},
     "output_type": "execute_result"
    }
   ],
   "source": [
    "df.head()"
   ]
  },
  {
   "cell_type": "code",
   "execution_count": 40,
   "metadata": {},
   "outputs": [
    {
     "data": {
      "text/plain": [
       "(1024, 14)"
      ]
     },
     "execution_count": 40,
     "metadata": {},
     "output_type": "execute_result"
    }
   ],
   "source": [
    "df.shape"
   ]
  },
  {
   "cell_type": "code",
   "execution_count": 41,
   "metadata": {},
   "outputs": [
    {
     "data": {
      "text/plain": [
       "Index(['DiabetesTypeOne', 'DiabetesTypeTwo', 'liverDisease', 'heartDisease',\n",
       "       'kidneyDisease', 'Flu', 'Fever', 'LowBP', 'HighBP', 'Recommended',\n",
       "       'Recommended2', 'Recommended3', 'Recommended4', 'Recommended5'],\n",
       "      dtype='object')"
      ]
     },
     "execution_count": 41,
     "metadata": {},
     "output_type": "execute_result"
    }
   ],
   "source": [
    "df.columns"
   ]
  },
  {
   "cell_type": "code",
   "execution_count": 42,
   "metadata": {},
   "outputs": [
    {
     "data": {
      "text/plain": [
       "(1024, 5)"
      ]
     },
     "execution_count": 42,
     "metadata": {},
     "output_type": "execute_result"
    }
   ],
   "source": [
    "feature_df=df[['DiabetesTypeOne', 'DiabetesTypeTwo', 'liverDisease', 'heartDisease',\n",
    "       'kidneyDisease', 'Flu', 'Fever', 'LowBP', 'HighBP']]\n",
    "feature_dff=df[['Recommended',\n",
    "       'Recommended2', 'Recommended3', 'Recommended4', 'Recommended5']]\n",
    "X=np.asarray((feature_df))\n",
    "y=np.asarray(feature_dff)\n",
    "X[0:5]\n",
    "X.shape\n",
    "y.shape"
   ]
  },
  {
   "cell_type": "code",
   "execution_count": 43,
   "metadata": {},
   "outputs": [
    {
     "name": "stdout",
     "output_type": "stream",
     "text": [
      "(921, 9) (921, 5) (103, 9) (103, 5)\n"
     ]
    }
   ],
   "source": [
    "from sklearn.model_selection import train_test_split\n",
    "X_train,X_test,y_train,y_test = train_test_split(X,y,test_size=0.1)\n",
    "\n",
    "print(X_train.shape,\n",
    "y_train.shape,\n",
    "X_test.shape,\n",
    "y_test.shape,)"
   ]
  },
  {
   "cell_type": "code",
   "execution_count": 45,
   "metadata": {},
   "outputs": [
    {
     "name": "stdout",
     "output_type": "stream",
     "text": [
      "[['ArabicSeekhKabab' 'AlooGobiMatar' 'AlooPalak' 'AlooGajarMatar'\n",
      "  'CabbageChanaDal']\n",
      " ['HydrabadiHaleem' 'ChickenMayyonaisSandwitch' 'EASYHONEYGARLICSALMON'\n",
      "  'MuttonDumBiryani' 'WhiteChickenKorma']\n",
      " ['Smokedsalmon' 'AlooGajarMatar' 'PumpkinBhaji' 'AlooPalak'\n",
      "  'SteelcutOats']\n",
      " ...\n",
      " ['ChickencornSoup' 'MuttonDumBiryani' 'EasyBoiledRice'\n",
      "  'BoiledGreenVegetables' 'EASYHONEYGARLICSALMON']\n",
      " ['EasyBoiledRice' 'CabbageChanaDal' 'AlooGobiMatar' 'JeeraAloo'\n",
      "  'BabyPotato']\n",
      " ['SteelcutOats' 'CabbageChanaDal' 'PumpkinBhaji' 'AlooPalak'\n",
      "  'AlooGajarMatar']]\n"
     ]
    },
    {
     "data": {
      "text/plain": [
       "0.9356364491854737"
      ]
     },
     "execution_count": 45,
     "metadata": {},
     "output_type": "execute_result"
    }
   ],
   "source": [
    "from sklearn.multioutput import MultiOutputClassifier\n",
    "\n",
    "from sklearn.metrics import confusion_matrix, precision_score\n",
    "\n",
    "knn = KNeighborsClassifier(n_neighbors=3)\n",
    "classifier.fit(X_train,y_train)\n",
    "y_predict=classifier.predict(X_train)\n",
    "print(y_predict)\n",
    "from sklearn.preprocessing import MultiLabelBinarizer\n",
    "from sklearn.metrics import f1_scoreclassifier = MultiOutputClassifier(knn, n_jobs=-1)\n",
    "\n",
    "\n",
    "\n",
    "\n",
    "m = MultiLabelBinarizer().fit(y_train)\n",
    "\n",
    "f1_score(m.transform(y_train),\n",
    "         m.transform(y_predict),\n",
    "         average='macro')\n"
   ]
  },
  {
   "cell_type": "code",
   "execution_count": 62,
   "metadata": {},
   "outputs": [],
   "source": []
  },
  {
   "cell_type": "code",
   "execution_count": null,
   "metadata": {},
   "outputs": [],
   "source": []
  }
 ],
 "metadata": {
  "kernelspec": {
   "display_name": "Python 3",
   "language": "python",
   "name": "python3"
  },
  "language_info": {
   "codemirror_mode": {
    "name": "ipython",
    "version": 3
   },
   "file_extension": ".py",
   "mimetype": "text/x-python",
   "name": "python",
   "nbconvert_exporter": "python",
   "pygments_lexer": "ipython3",
   "version": "3.7.1"
  }
 },
 "nbformat": 4,
 "nbformat_minor": 2
}
